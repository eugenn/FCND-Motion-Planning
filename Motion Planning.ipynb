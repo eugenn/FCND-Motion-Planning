{
 "cells": [
  {
   "cell_type": "code",
   "execution_count": 203,
   "metadata": {},
   "outputs": [],
   "source": [
    "import numpy as np\n",
    "import pandas as pd\n",
    "import os\n",
    "import matplotlib.pyplot as plt\n",
    "from planning_utils import create_grid, a_star\n",
    "\n",
    "import utm\n",
    "import numpy\n",
    "\n",
    "%matplotlib inline \n"
   ]
  },
  {
   "cell_type": "code",
   "execution_count": 204,
   "metadata": {},
   "outputs": [],
   "source": [
    "from udacidrone import Drone\n",
    "from udacidrone.connection import MavlinkConnection\n",
    "from udacidrone.frame_utils import *\n",
    "from udacidrone.messaging import MsgID"
   ]
  },
  {
   "cell_type": "code",
   "execution_count": 205,
   "metadata": {},
   "outputs": [],
   "source": [
    "plt.rcParams['figure.figsize'] = 8, 8"
   ]
  },
  {
   "cell_type": "markdown",
   "metadata": {},
   "source": [
    "You'll notice we've imported `create_grid`, and `a_star`. These are functions you've implemented in previous exercises, you'll use them to create a map and find a path from a starting position to a goal position.\n",
    "\n",
    "To read the function signature and documentation execute `?` followed by the function name in a cell. In the example below we'll check the documentation for `create_grid`."
   ]
  },
  {
   "cell_type": "code",
   "execution_count": 206,
   "metadata": {},
   "outputs": [],
   "source": [
    "?create_grid"
   ]
  },
  {
   "cell_type": "code",
   "execution_count": 207,
   "metadata": {},
   "outputs": [],
   "source": [
    "def global_to_local(global_position, global_home):\n",
    "    \n",
    "    (east_home, north_home, _, _) = utm.from_latlon(global_home[1], global_home[0])\n",
    "    \n",
    "    (east, north, _, _) = utm.from_latlon(global_position[1], global_position[0])\n",
    "                                          \n",
    "    local_position = numpy.array([north - north_home, east - east_home, -global_position[2]])\n",
    "    \n",
    "    return local_position"
   ]
  },
  {
   "cell_type": "code",
   "execution_count": 208,
   "metadata": {},
   "outputs": [],
   "source": [
    "def local_to_global(local_position, global_home):\n",
    "    (east_home, north_home, zone_number, zone_letter) = utm.from_latlon(\n",
    "                                                        global_home[1], global_home[0])\n",
    "    \n",
    "    (lat, lon) = utm.to_latlon(east_home + local_position[1],\n",
    "                               north_home + local_position[0], zone_number,\n",
    "                               zone_letter)\n",
    "                               \n",
    "    global_position = numpy.array([lon, lat, -local_position[2]])\n",
    "    \n",
    "    return global_position"
   ]
  },
  {
   "cell_type": "code",
   "execution_count": 209,
   "metadata": {},
   "outputs": [],
   "source": [
    "s_lat0, s_lon0 = pd.read_csv('colliders.csv', nrows=1)\n",
    "\n",
    "lat0 = np.float64(s_lat0.split(' ')[1])\n",
    "lon0 = np.float64(s_lon0.split(' ')[2])"
   ]
  },
  {
   "cell_type": "markdown",
   "metadata": {},
   "source": [
    "If you would like to alter these implementations, you can modify [grid.py](/edit/grid.py) and [planning.py](/edit/planning.py) in the current directory."
   ]
  },
  {
   "cell_type": "code",
   "execution_count": 210,
   "metadata": {},
   "outputs": [
    {
     "name": "stdout",
     "output_type": "stream",
     "text": [
      "[[-310.2389   -439.2315     85.5         5.          5.         85.5     ]\n",
      " [-300.2389   -439.2315     85.5         5.          5.         85.5     ]\n",
      " [-290.2389   -439.2315     85.5         5.          5.         85.5     ]\n",
      " ...\n",
      " [ 257.8061    425.1645      1.75852     1.292725    1.292725    1.944791]\n",
      " [ 293.9967    368.3391      3.557666    1.129456    1.129456    3.667319]\n",
      " [ 281.5162    354.4156      4.999351    1.053772    1.053772    4.950246]]\n"
     ]
    }
   ],
   "source": [
    "# This is the same obstacle data from the previous lesson.\n",
    "filename = 'colliders.csv'\n",
    "data = np.loadtxt(filename, delimiter=',', dtype='Float64', skiprows=2)\n",
    "print(data)"
   ]
  },
  {
   "cell_type": "code",
   "execution_count": 211,
   "metadata": {},
   "outputs": [],
   "source": [
    "# Static drone altitude (meters)\n",
    "drone_altitude = 5\n",
    "\n",
    "# Minimum distance stay away from obstacle (meters)\n",
    "safe_distance = 5"
   ]
  },
  {
   "cell_type": "code",
   "execution_count": 212,
   "metadata": {},
   "outputs": [],
   "source": [
    "# TODO: Use `create_grid` to create a grid configuration space of\n",
    "# the obstacle data.\n",
    "grid, north_min, east_min = create_grid(data, drone_altitude, safe_distance)"
   ]
  },
  {
   "cell_type": "markdown",
   "metadata": {},
   "source": [
    "Next you'll compute the path from a start location to a goal location using A*."
   ]
  },
  {
   "cell_type": "markdown",
   "metadata": {},
   "source": [
    "Start and goal coordinates in *(north, east)*."
   ]
  },
  {
   "cell_type": "code",
   "execution_count": 213,
   "metadata": {},
   "outputs": [],
   "source": [
    "# start_ne = (240, 380)\n",
    "# start_ne = (315, 445)\n",
    "start_ne = (-north_min, -east_min)\n",
    "# goal_ne = (580., 750.)\n",
    "# goal_ne = (824., 315.)\n",
    "goal_ne = (815., 289.)"
   ]
  },
  {
   "cell_type": "code",
   "execution_count": null,
   "metadata": {},
   "outputs": [],
   "source": []
  },
  {
   "cell_type": "markdown",
   "metadata": {},
   "source": [
    "Write a heuristic function."
   ]
  },
  {
   "cell_type": "code",
   "execution_count": 214,
   "metadata": {},
   "outputs": [],
   "source": [
    "def heuristic_func2(position, goal_position):\n",
    "    return np.abs(position[0] - goal_position[0]) + np.abs(position[1] - goal_position[1])"
   ]
  },
  {
   "cell_type": "code",
   "execution_count": 215,
   "metadata": {},
   "outputs": [],
   "source": [
    "def heuristic_func(position, goal_position):\n",
    "    D = 1\n",
    "    D2 = np.sqrt(2)\n",
    "    \n",
    "    dx = np.abs(position[0] - goal_position[0])\n",
    "    dy = np.abs(position[1] - goal_position[1])\n",
    "    \n",
    "#     if dx > dy: \n",
    "#         return D * (dx-dy) + D2 * dy\n",
    "#     else: \n",
    "#         return D * (dy-dx) + D2 * dx\n",
    "    \n",
    "#     return 10 * (dx + dy) - 6 * min(dx, dy)\n",
    "#     return D * max(dx, dy) + (D2-1) * min(dx, dy)\n",
    "\n",
    "    return D * (dx + dy) + (D2 - 2 * D) * min(dx, dy)"
   ]
  },
  {
   "cell_type": "code",
   "execution_count": 216,
   "metadata": {},
   "outputs": [],
   "source": [
    "def heuristic_func3(position, goal_position):\n",
    "    dx = np.abs(position[0] - goal_position[0])\n",
    "    dy = np.abs(position[1] - goal_position[1])\n",
    "    return min(dx, dy) * np.sqrt(2) + abs(dx - dy)"
   ]
  },
  {
   "cell_type": "code",
   "execution_count": 217,
   "metadata": {},
   "outputs": [],
   "source": [
    "def heuristic_func4(position, goal_position):\n",
    "    D = 1\n",
    "    dx = np.abs(position[0] - goal_position[0])\n",
    "    dy = np.abs(position[1] - goal_position[1])\n",
    "    return D * np.sqrt(dx * dx + dy * dy)"
   ]
  },
  {
   "cell_type": "markdown",
   "metadata": {},
   "source": [
    "Compute the lowest cost path with `a_star`. "
   ]
  },
  {
   "cell_type": "code",
   "execution_count": 218,
   "metadata": {},
   "outputs": [
    {
     "name": "stdout",
     "output_type": "stream",
     "text": [
      "Found a path.\n",
      "572 172824.9215200003\n"
     ]
    }
   ],
   "source": [
    "path, cost = a_star(grid, heuristic_func2, start_ne, goal_ne)\n",
    "# path, cost = a_star(grid, heuristic_func2, start_ne, goal_ne)\n",
    "print(len(path), cost)"
   ]
  },
  {
   "cell_type": "markdown",
   "metadata": {},
   "source": [
    "Let's plot the path!"
   ]
  },
  {
   "cell_type": "code",
   "execution_count": 219,
   "metadata": {},
   "outputs": [
    {
     "data": {
      "image/png": "[encoded data removed]",
      "text/plain": [
       "<matplotlib.figure.Figure at 0x1b5cb22e8>"
      ]
     },
     "metadata": {},
     "output_type": "display_data"
    }
   ],
   "source": [
    "plt.imshow(grid, cmap='Greys', origin='lower')\n",
    "\n",
    "# For the purposes of the visual the east coordinate lay along\n",
    "# the x-axis and the north coordinates long the y-axis.\n",
    "plt.plot(start_ne[1], start_ne[0], 'x')\n",
    "plt.plot(goal_ne[1], goal_ne[0], 'x')\n",
    "\n",
    "pp = np.array(path)\n",
    "plt.plot(pp[:, 1], pp[:, 0], 'g')\n",
    "\n",
    "plt.xlabel('EAST')\n",
    "plt.ylabel('NORTH')\n",
    "plt.show()"
   ]
  },
  {
   "cell_type": "markdown",
   "metadata": {},
   "source": [
    "### Path Pruning"
   ]
  },
  {
   "cell_type": "code",
   "execution_count": 220,
   "metadata": {},
   "outputs": [],
   "source": [
    "def point(p):\n",
    "    return np.array([p[0], p[1], 1.]).reshape(1, -1)\n",
    "\n",
    "def collinearity_check(p1, p2, p3, epsilon=1e-6):   \n",
    "    m = np.concatenate((p1, p2, p3), 0)\n",
    "    det = np.linalg.det(m)\n",
    "    return abs(det) < epsilon"
   ]
  },
  {
   "cell_type": "code",
   "execution_count": 221,
   "metadata": {},
   "outputs": [],
   "source": [
    "# We're using collinearity here, but you could use Bresenham as well!\n",
    "def colinear_prune_path(path):\n",
    "    pruned_path = [p for p in path]\n",
    "    \n",
    "    i = 0\n",
    "    while i < len(pruned_path) - 2:\n",
    "        p1 = point(pruned_path[i])\n",
    "        p2 = point(pruned_path[i+1])\n",
    "        p3 = point(pruned_path[i+2])\n",
    "        \n",
    "        # If the 3 points are in a line remove\n",
    "        # the 2nd point.\n",
    "        # The 3rd point now becomes and 2nd point\n",
    "        # and the check is redone with a new third point\n",
    "        # on the next iteration.\n",
    "        if collinearity_check(p1, p2, p3):\n",
    "            # Something subtle here but we can mutate\n",
    "            # `pruned_path` freely because the length\n",
    "            # of the list is check on every iteration.\n",
    "            pruned_path.remove(pruned_path[i+1])\n",
    "        else:\n",
    "            i += 1\n",
    "    return pruned_path"
   ]
  },
  {
   "cell_type": "markdown",
   "metadata": {},
   "source": [
    "Prune the path."
   ]
  },
  {
   "cell_type": "code",
   "execution_count": 222,
   "metadata": {},
   "outputs": [
    {
     "name": "stdout",
     "output_type": "stream",
     "text": [
      "18\n"
     ]
    }
   ],
   "source": [
    "pruned_path = colinear_prune_path(path)\n",
    "print(len(pruned_path))"
   ]
  },
  {
   "cell_type": "code",
   "execution_count": 223,
   "metadata": {},
   "outputs": [],
   "source": [
    "def bresenham(p1, p2):\n",
    "    sign = 1\n",
    "\n",
    "    if p1[0] > p2[0]:\n",
    "        _x0 = int(p1[0])\n",
    "        _x1 = int(p2[0])\n",
    "\n",
    "        _y0 = int(p1[1])\n",
    "        _y1 = int(p2[1])\n",
    "\n",
    "        p1 = (_x1, _y1)\n",
    "        p2 = (_x0, _y0)\n",
    "\n",
    "    if p1[1] > p2[1]:\n",
    "        sign = -1\n",
    "\n",
    "    x1, y1 = p1\n",
    "    x2, y2 = p2\n",
    "\n",
    "    cells = []\n",
    "\n",
    "    m = abs(y2 - y1) / abs(x2 - x1)\n",
    "\n",
    "    if sign == 1:\n",
    "        line_val = y1\n",
    "        i = x1\n",
    "        j = y1\n",
    "        r = i\n",
    "        k = x2\n",
    "        while i < x2:\n",
    "            cells.append([i, j])\n",
    "            if line_val + m > j + 1:\n",
    "                j += 1\n",
    "            else:\n",
    "                line_val += m\n",
    "                i += sign\n",
    "    else:\n",
    "        line_val = y2\n",
    "        i = x2\n",
    "        j = y2\n",
    "\n",
    "        while x1 < i:\n",
    "            cells.append([i, j])\n",
    "            if line_val + m > j + 1:\n",
    "                j += 1\n",
    "            else:\n",
    "                line_val += m\n",
    "                i += sign\n",
    "\n",
    "    cells.append([i, j])\n",
    "    return np.array(cells)"
   ]
  },
  {
   "cell_type": "code",
   "execution_count": 224,
   "metadata": {},
   "outputs": [],
   "source": [
    "def bres_prune_path(grid, pruned_path):\n",
    "    pp = list(pruned_path)\n",
    "\n",
    "    p1 = (int(pp[0][0]), int(pp[0][1]))\n",
    "    path = []\n",
    "    path.append(p1)\n",
    "    i = 1\n",
    "    \n",
    "    while i < len(pp):\n",
    "        p2 = (int(pp[i][0]), int(pp[i][1]))\n",
    "        \n",
    "        b_pp = bresenham(p1, p2)\n",
    "    \n",
    "        for p in b_pp:\n",
    "            x = p[0]\n",
    "            y = p[1]\n",
    "            \n",
    "            if grid[int(x)][int(y)] == 1:\n",
    "                p1 = pp[i-1]\n",
    "                path.append(pp[i-1])\n",
    "                break        \n",
    "        \n",
    "        i = i+1\n",
    "        \n",
    "    path.append(pp[-1])       \n",
    "    return path    "
   ]
  },
  {
   "cell_type": "code",
   "execution_count": 225,
   "metadata": {},
   "outputs": [
    {
     "name": "stdout",
     "output_type": "stream",
     "text": [
      "14\n"
     ]
    }
   ],
   "source": [
    "res = prune_path2(grid, path)\n",
    "print(len(res))"
   ]
  },
  {
   "cell_type": "code",
   "execution_count": 226,
   "metadata": {},
   "outputs": [
    {
     "name": "stdout",
     "output_type": "stream",
     "text": [
      "12\n"
     ]
    }
   ],
   "source": [
    "res2 = prune_path2(grid, res)\n",
    "print(len(res2))"
   ]
  },
  {
   "cell_type": "code",
   "execution_count": 227,
   "metadata": {},
   "outputs": [
    {
     "name": "stdout",
     "output_type": "stream",
     "text": [
      "[[5 0]\n",
      " [5 1]\n",
      " [4 1]\n",
      " [4 2]\n",
      " [3 2]\n",
      " [3 3]\n",
      " [3 4]\n",
      " [2 4]\n",
      " [2 5]\n",
      " [1 5]\n",
      " [1 6]\n",
      " [0 6]]\n"
     ]
    },
    {
     "data": {
      "image/png": "[encoded data removed]",
      "text/plain": [
       "<matplotlib.figure.Figure at 0x1b5cb2208>"
      ]
     },
     "metadata": {},
     "output_type": "display_data"
    }
   ],
   "source": [
    "plt.rcParams['figure.figsize'] = 8, 8\n",
    "\n",
    "p1 = [0, 7]\n",
    "p2 = [5, 0]\n",
    "\n",
    "# p2 = [0, 0]\n",
    "# p1 = [5, 7]\n",
    "\n",
    "cells = bresenham(p1, p2)\n",
    "print(cells)\n",
    "\n",
    "plt.plot([p1[0], p2[0]], [p1[1], p2[1]])\n",
    "\n",
    "    \n",
    "for q in cells:\n",
    "    plt.plot(q[0], q[1], 'x')\n",
    "#     plt.plot([q[0], q[0]+1], [q[1]+1, q[1]+1], 'x')\n",
    "#     plt.plot([q[0], q[0]], [q[1],q[1]+1], 'x')\n",
    "#     plt.plot([q[0]+1, q[0]+1], [q[1], q[1]+1], 'x')\n",
    "\n",
    "plt.grid()\n",
    "plt.axis('equal')\n",
    "plt.xlabel(\"X\")\n",
    "plt.ylabel(\"Y\")\n",
    "plt.title(\"Integer based Bresenham algorithm\")\n",
    "plt.show()"
   ]
  },
  {
   "cell_type": "code",
   "execution_count": 228,
   "metadata": {},
   "outputs": [
    {
     "data": {
      "image/png": "[encoded data removed]",
      "text/plain": [
       "<matplotlib.figure.Figure at 0x1b4f75f60>"
      ]
     },
     "metadata": {},
     "output_type": "display_data"
    },
    {
     "data": {
      "image/png": "[encoded data removed]",
      "text/plain": [
       "<matplotlib.figure.Figure at 0x1b875b668>"
      ]
     },
     "metadata": {},
     "output_type": "display_data"
    },
    {
     "data": {
      "image/png": "[encoded data removed]",
      "text/plain": [
       "<matplotlib.figure.Figure at 0x1b91752b0>"
      ]
     },
     "metadata": {},
     "output_type": "display_data"
    }
   ],
   "source": [
    "pp1 = np.array(path)\n",
    "plt.figure(1)\n",
    "plt.imshow(grid, cmap='Greys', origin='lower')\n",
    "plt.plot(pp1[:, 1], pp1[:, 0], 'b')\n",
    "plt.scatter(pp1[:, 1], pp1[:, 0])\n",
    "plt.xlabel('EAST')\n",
    "plt.ylabel('NORTH')\n",
    "plt.title('a-star')\n",
    "plt.savefig(\"a_star.png\")\n",
    "\n",
    "pp2 = np.array(pruned_path)\n",
    "plt.figure(2)\n",
    "plt.imshow(grid, cmap='Greys', origin='lower')\n",
    "plt.plot(pp2[:, 1], pp2[:, 0], 'r')\n",
    "plt.scatter(pp2[:, 1], pp2[:, 0])\n",
    "plt.xlabel('EAST')\n",
    "plt.ylabel('NORTH')\n",
    "plt.title('collinearity test')\n",
    "plt.savefig(\"collinear.png\")\n",
    "\n",
    "pp3 = np.array(res2)\n",
    "plt.figure(3)\n",
    "plt.imshow(grid, cmap='Greys', origin='lower')\n",
    "plt.plot(pp3[:, 1], pp3[:, 0], 'b')\n",
    "plt.scatter(pp3[:, 1], pp3[:, 0])\n",
    "plt.xlabel('EAST')\n",
    "plt.ylabel('NORTH')\n",
    "plt.title('bresenham')\n",
    "plt.savefig(\"bres.png\")\n",
    "\n",
    "plt.show()"
   ]
  },
  {
   "cell_type": "code",
   "execution_count": null,
   "metadata": {},
   "outputs": [],
   "source": []
  },
  {
   "cell_type": "code",
   "execution_count": null,
   "metadata": {},
   "outputs": [],
   "source": []
  }
 ],
 "metadata": {
  "kernelspec": {
   "display_name": "Python 3",
   "language": "python",
   "name": "python3"
  },
  "language_info": {
   "codemirror_mode": {
    "name": "ipython",
    "version": 3
   },
   "file_extension": ".py",
   "mimetype": "text/x-python",
   "name": "python",
   "nbconvert_exporter": "python",
   "pygments_lexer": "ipython3",
   "version": "3.6.0"
  }
 },
 "nbformat": 4,
 "nbformat_minor": 2
}
